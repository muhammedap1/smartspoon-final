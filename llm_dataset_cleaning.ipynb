{
 "cells": [
  {
   "cell_type": "code",
   "execution_count": 1,
   "metadata": {},
   "outputs": [],
   "source": [
    "import pandas as pd\n",
    "import json\n",
    "\n",
    "data=pd.read_csv('Dataset\\\\raw-data_recipe.csv')"
   ]
  },
  {
   "cell_type": "code",
   "execution_count": 58,
   "metadata": {},
   "outputs": [
    {
     "data": {
      "text/plain": [
       "\"{'directions': u'Prep\\\\n10 m\\\\nCook\\\\n8 m\\\\nReady In\\\\n18 m\\\\nCombine turkey, black beans, onion, tomato, parsley, egg white, garlic, oregano, cumin, salt, and pepper together in a bowl until well combined; form into 4 patties.\\\\nHeat a greased skillet over medium heat; cook patties until no longer pink in the center, 4 to 5 minutes per side. An instant-read thermometer inserted into the center should read at least 165 degrees F (74 degrees C).'}\""
      ]
     },
     "execution_count": 58,
     "metadata": {},
     "output_type": "execute_result"
    }
   ],
   "source": [
    "data['cooking_directions'][7]"
   ]
  },
  {
   "cell_type": "code",
   "execution_count": 59,
   "metadata": {},
   "outputs": [
    {
     "data": {
      "text/html": [
       "<div>\n",
       "<style scoped>\n",
       "    .dataframe tbody tr th:only-of-type {\n",
       "        vertical-align: middle;\n",
       "    }\n",
       "\n",
       "    .dataframe tbody tr th {\n",
       "        vertical-align: top;\n",
       "    }\n",
       "\n",
       "    .dataframe thead th {\n",
       "        text-align: right;\n",
       "    }\n",
       "</style>\n",
       "<table border=\"1\" class=\"dataframe\">\n",
       "  <thead>\n",
       "    <tr style=\"text-align: right;\">\n",
       "      <th></th>\n",
       "      <th>recipe_name</th>\n",
       "      <th>cooking_directions</th>\n",
       "      <th>formatted_directions</th>\n",
       "    </tr>\n",
       "  </thead>\n",
       "  <tbody>\n",
       "    <tr>\n",
       "      <th>0</th>\n",
       "      <td>Homemade Bacon</td>\n",
       "      <td>{'directions': u'Prep\\n5 m\\nCook\\n2 h 45 m\\nRe...</td>\n",
       "      <td>can prepare in 5 m can be cooked in 2 h 45 m w...</td>\n",
       "    </tr>\n",
       "    <tr>\n",
       "      <th>1</th>\n",
       "      <td>Pork Loin, Apples, and Sauerkraut</td>\n",
       "      <td>{'directions': u'Prep\\n15 m\\nCook\\n2 h 30 m\\nR...</td>\n",
       "      <td>can prepare in 15 m can be cooked in 2 h 30 m ...</td>\n",
       "    </tr>\n",
       "    <tr>\n",
       "      <th>2</th>\n",
       "      <td>Foolproof Rosemary Chicken Wings</td>\n",
       "      <td>{'directions': u\"Prep\\n20 m\\nCook\\n40 m\\nReady...</td>\n",
       "      <td>{'directions': u\"can prepare in 20 m can be co...</td>\n",
       "    </tr>\n",
       "    <tr>\n",
       "      <th>3</th>\n",
       "      <td>Chicken Pesto Paninis</td>\n",
       "      <td>{'directions': u'Prep\\n15 m\\nCook\\n5 m\\nReady ...</td>\n",
       "      <td>can prepare in 15 m can be cooked in 5 m will ...</td>\n",
       "    </tr>\n",
       "    <tr>\n",
       "      <th>4</th>\n",
       "      <td>Potato Bacon Pizza</td>\n",
       "      <td>{'directions': u'Prep\\n20 m\\nCook\\n45 m\\nReady...</td>\n",
       "      <td>can prepare in 20 m can be cooked in 45 m will...</td>\n",
       "    </tr>\n",
       "  </tbody>\n",
       "</table>\n",
       "</div>"
      ],
      "text/plain": [
       "                         recipe_name  \\\n",
       "0                     Homemade Bacon   \n",
       "1  Pork Loin, Apples, and Sauerkraut   \n",
       "2   Foolproof Rosemary Chicken Wings   \n",
       "3              Chicken Pesto Paninis   \n",
       "4                 Potato Bacon Pizza   \n",
       "\n",
       "                                  cooking_directions  \\\n",
       "0  {'directions': u'Prep\\n5 m\\nCook\\n2 h 45 m\\nRe...   \n",
       "1  {'directions': u'Prep\\n15 m\\nCook\\n2 h 30 m\\nR...   \n",
       "2  {'directions': u\"Prep\\n20 m\\nCook\\n40 m\\nReady...   \n",
       "3  {'directions': u'Prep\\n15 m\\nCook\\n5 m\\nReady ...   \n",
       "4  {'directions': u'Prep\\n20 m\\nCook\\n45 m\\nReady...   \n",
       "\n",
       "                                formatted_directions  \n",
       "0  can prepare in 5 m can be cooked in 2 h 45 m w...  \n",
       "1  can prepare in 15 m can be cooked in 2 h 30 m ...  \n",
       "2  {'directions': u\"can prepare in 20 m can be co...  \n",
       "3  can prepare in 15 m can be cooked in 5 m will ...  \n",
       "4  can prepare in 20 m can be cooked in 45 m will...  "
      ]
     },
     "execution_count": 59,
     "metadata": {},
     "output_type": "execute_result"
    }
   ],
   "source": [
    "data.head()"
   ]
  },
  {
   "cell_type": "code",
   "execution_count": 60,
   "metadata": {},
   "outputs": [],
   "source": [
    "data=data[['recipe_name','cooking_directions']]"
   ]
  },
  {
   "cell_type": "code",
   "execution_count": 61,
   "metadata": {},
   "outputs": [
    {
     "data": {
      "text/html": [
       "<div>\n",
       "<style scoped>\n",
       "    .dataframe tbody tr th:only-of-type {\n",
       "        vertical-align: middle;\n",
       "    }\n",
       "\n",
       "    .dataframe tbody tr th {\n",
       "        vertical-align: top;\n",
       "    }\n",
       "\n",
       "    .dataframe thead th {\n",
       "        text-align: right;\n",
       "    }\n",
       "</style>\n",
       "<table border=\"1\" class=\"dataframe\">\n",
       "  <thead>\n",
       "    <tr style=\"text-align: right;\">\n",
       "      <th></th>\n",
       "      <th>recipe_name</th>\n",
       "      <th>cooking_directions</th>\n",
       "    </tr>\n",
       "  </thead>\n",
       "  <tbody>\n",
       "    <tr>\n",
       "      <th>0</th>\n",
       "      <td>Homemade Bacon</td>\n",
       "      <td>{'directions': u'Prep\\n5 m\\nCook\\n2 h 45 m\\nRe...</td>\n",
       "    </tr>\n",
       "    <tr>\n",
       "      <th>1</th>\n",
       "      <td>Pork Loin, Apples, and Sauerkraut</td>\n",
       "      <td>{'directions': u'Prep\\n15 m\\nCook\\n2 h 30 m\\nR...</td>\n",
       "    </tr>\n",
       "    <tr>\n",
       "      <th>2</th>\n",
       "      <td>Foolproof Rosemary Chicken Wings</td>\n",
       "      <td>{'directions': u\"Prep\\n20 m\\nCook\\n40 m\\nReady...</td>\n",
       "    </tr>\n",
       "    <tr>\n",
       "      <th>3</th>\n",
       "      <td>Chicken Pesto Paninis</td>\n",
       "      <td>{'directions': u'Prep\\n15 m\\nCook\\n5 m\\nReady ...</td>\n",
       "    </tr>\n",
       "    <tr>\n",
       "      <th>4</th>\n",
       "      <td>Potato Bacon Pizza</td>\n",
       "      <td>{'directions': u'Prep\\n20 m\\nCook\\n45 m\\nReady...</td>\n",
       "    </tr>\n",
       "  </tbody>\n",
       "</table>\n",
       "</div>"
      ],
      "text/plain": [
       "                         recipe_name  \\\n",
       "0                     Homemade Bacon   \n",
       "1  Pork Loin, Apples, and Sauerkraut   \n",
       "2   Foolproof Rosemary Chicken Wings   \n",
       "3              Chicken Pesto Paninis   \n",
       "4                 Potato Bacon Pizza   \n",
       "\n",
       "                                  cooking_directions  \n",
       "0  {'directions': u'Prep\\n5 m\\nCook\\n2 h 45 m\\nRe...  \n",
       "1  {'directions': u'Prep\\n15 m\\nCook\\n2 h 30 m\\nR...  \n",
       "2  {'directions': u\"Prep\\n20 m\\nCook\\n40 m\\nReady...  \n",
       "3  {'directions': u'Prep\\n15 m\\nCook\\n5 m\\nReady ...  \n",
       "4  {'directions': u'Prep\\n20 m\\nCook\\n45 m\\nReady...  "
      ]
     },
     "execution_count": 61,
     "metadata": {},
     "output_type": "execute_result"
    }
   ],
   "source": [
    "data.head()"
   ]
  },
  {
   "cell_type": "code",
   "execution_count": 62,
   "metadata": {},
   "outputs": [
    {
     "name": "stdout",
     "output_type": "stream",
     "text": [
      "{'directions': u'Prep 5 m Cook 2 h 45 m Ready In 11 h 50 m Preheat oven to 200 degrees F (95 degrees C). Season pork belly with paprika, salt, and pepper. Tightly wrap pork twice in heavy-duty aluminum foil. Place on a baking sheet and bake in the preheated oven for 2 1/2 hours. Turn off the oven; let pork rest in the oven for 1 hour. Remove meat from oven, leaving it wrapped in aluminum foil, and refrigerate at least 8 hours or overnight. Remove pork from foil and slice across the grain in 1/4-inch thick slices. Working in batches, cook pork in a non-stick skillet over medium heat until golden and crisped, 6 to 8 minutes per slice.'}\n"
     ]
    }
   ],
   "source": [
    "import pandas as pd\n",
    "import re\n",
    "\n",
    "def extract_instructions(df):\n",
    "    \"\"\"\n",
    "    Extracts and formats meaningful sentences from the cooking_directions column.\n",
    "    \n",
    "    Parameters:\n",
    "    df (pd.DataFrame): DataFrame with 'cooking_directions' column.\n",
    "    \n",
    "    Returns:\n",
    "    pd.Series: Formatted cooking instructions as a single string for each recipe.\n",
    "    \"\"\"\n",
    "    \n",
    "    def format_directions(directions):\n",
    "        # Replace line breaks with spaces and remove excess whitespace\n",
    "        directions = re.sub(r'\\\\n+', ' ', directions)  # Replace multiple line breaks with a single space\n",
    "        directions = directions.strip()  # Remove leading and trailing whitespace\n",
    "        \n",
    "        # Additional formatting if needed (e.g., fixing specific patterns)\n",
    "        # directions = directions.replace('  ', ' ')  # Example to replace double spaces if any\n",
    "        \n",
    "        return directions\n",
    "    \n",
    "    # Apply formatting function to the 'cooking_directions' column\n",
    "    df['formatted_directions'] = df['cooking_directions'].apply(format_directions)\n",
    "    \n",
    "    return df['formatted_directions']\n",
    "\n",
    "# Example usage with a DataFrame 'data'\n",
    "# data = pd.DataFrame({\n",
    "#     'recipe_name': ['Recipe 1', 'Recipe 2'],\n",
    "#     'cooking_directions': [\n",
    "#         \"Prep\\\\n5 m\\\\nCook\\\\n2 h 45 m\\\\nPreheat oven...\",\n",
    "#         \"Prep\\\\n15 m\\\\nCook\\\\n2 h 30 m\\\\nPreheat oven...\"\n",
    "#     ]\n",
    "# })\n",
    "\n",
    "# Extract and format cooking directions\n",
    "formatted_directions = extract_instructions(data)\n",
    "print(formatted_directions[0])\n"
   ]
  },
  {
   "cell_type": "code",
   "execution_count": 41,
   "metadata": {},
   "outputs": [
    {
     "data": {
      "text/plain": [
       "\"{'directions': u'Prep 10 m Cook 8 m Ready In 18 m Combine turkey, black beans, onion, tomato, parsley, egg white, garlic, oregano, cumin, salt, and pepper together in a bowl until well combined; form into 4 patties. Heat a greased skillet over medium heat; cook patties until no longer pink in the center, 4 to 5 minutes per side. An instant-read thermometer inserted into the center should read at least 165 degrees F (74 degrees C).'}\""
      ]
     },
     "execution_count": 41,
     "metadata": {},
     "output_type": "execute_result"
    }
   ],
   "source": [
    "formatted_directions[7]"
   ]
  },
  {
   "cell_type": "code",
   "execution_count": 63,
   "metadata": {},
   "outputs": [
    {
     "name": "stdout",
     "output_type": "stream",
     "text": [
      "                         recipe_name  \\\n",
      "0                     Homemade Bacon   \n",
      "1  Pork Loin, Apples, and Sauerkraut   \n",
      "2   Foolproof Rosemary Chicken Wings   \n",
      "3              Chicken Pesto Paninis   \n",
      "4                 Potato Bacon Pizza   \n",
      "\n",
      "                                extracted_directions  \n",
      "0  Ready In\\n11 h 50 m\\nPreheat oven to 200 degre...  \n",
      "1  Ready In\\n2 h 45 m\\nPreheat oven to 325 degree...  \n",
      "2  Ready In\\n1 h\\nPreheat an oven to 350 degrees ...  \n",
      "3  Ready In\\n20 m\\nPreheat a panini grill.\\nSlice...  \n",
      "4  Combine warm water, honey, and yeast in a larg...  \n"
     ]
    }
   ],
   "source": [
    "import pandas as pd\n",
    "\n",
    "def extract_directions_after_ready(directions):\n",
    "    # Find the position where 'Ready In' starts\n",
    "    ready_in_index = directions.find('Ready In')\n",
    "    \n",
    "    # If 'Ready In' is found, slice the text from that position onwards\n",
    "    if ready_in_index != -1:\n",
    "        # Extract the text starting from 'Ready In'\n",
    "        directions_after_ready = directions[ready_in_index:].strip()\n",
    "        \n",
    "        # Clean up by removing any preceding 'Ready In' text and extra spaces\n",
    "        # Find the end of the initial time details, which is followed by instructions\n",
    "        instructions_start_index = directions_after_ready.find('Combine')\n",
    "        if instructions_start_index != -1:\n",
    "            return directions_after_ready[instructions_start_index:].strip()\n",
    "        \n",
    "        return directions_after_ready.strip()\n",
    "    else:\n",
    "        # Return original if 'Ready In' is not found\n",
    "        return directions.strip()\n",
    "\n",
    "def process_dataset(df):\n",
    "    # Apply the extraction function to the 'cooking_directions' column\n",
    "    df['extracted_directions'] = df['cooking_directions'].apply(extract_directions_after_ready)\n",
    "    return df\n",
    "\n",
    "# Example usage\n",
    "# Load your dataset\n",
    "# data = pd.read_csv('path_to_your_dataset.csv')\n",
    "\n",
    "# Process the dataset\n",
    "data = process_dataset(data)\n",
    "\n",
    "# Print the results\n",
    "print(data[['recipe_name', 'extracted_directions']].head())\n"
   ]
  },
  {
   "cell_type": "code",
   "execution_count": 64,
   "metadata": {},
   "outputs": [
    {
     "data": {
      "text/html": [
       "<div>\n",
       "<style scoped>\n",
       "    .dataframe tbody tr th:only-of-type {\n",
       "        vertical-align: middle;\n",
       "    }\n",
       "\n",
       "    .dataframe tbody tr th {\n",
       "        vertical-align: top;\n",
       "    }\n",
       "\n",
       "    .dataframe thead th {\n",
       "        text-align: right;\n",
       "    }\n",
       "</style>\n",
       "<table border=\"1\" class=\"dataframe\">\n",
       "  <thead>\n",
       "    <tr style=\"text-align: right;\">\n",
       "      <th></th>\n",
       "      <th>recipe_name</th>\n",
       "      <th>cooking_directions</th>\n",
       "      <th>formatted_directions</th>\n",
       "      <th>extracted_directions</th>\n",
       "    </tr>\n",
       "  </thead>\n",
       "  <tbody>\n",
       "    <tr>\n",
       "      <th>0</th>\n",
       "      <td>Homemade Bacon</td>\n",
       "      <td>{'directions': u'Prep\\n5 m\\nCook\\n2 h 45 m\\nRe...</td>\n",
       "      <td>{'directions': u'Prep 5 m Cook 2 h 45 m Ready ...</td>\n",
       "      <td>Ready In\\n11 h 50 m\\nPreheat oven to 200 degre...</td>\n",
       "    </tr>\n",
       "    <tr>\n",
       "      <th>1</th>\n",
       "      <td>Pork Loin, Apples, and Sauerkraut</td>\n",
       "      <td>{'directions': u'Prep\\n15 m\\nCook\\n2 h 30 m\\nR...</td>\n",
       "      <td>{'directions': u'Prep 15 m Cook 2 h 30 m Ready...</td>\n",
       "      <td>Ready In\\n2 h 45 m\\nPreheat oven to 325 degree...</td>\n",
       "    </tr>\n",
       "    <tr>\n",
       "      <th>2</th>\n",
       "      <td>Foolproof Rosemary Chicken Wings</td>\n",
       "      <td>{'directions': u\"Prep\\n20 m\\nCook\\n40 m\\nReady...</td>\n",
       "      <td>{'directions': u\"Prep 20 m Cook 40 m Ready In ...</td>\n",
       "      <td>Ready In\\n1 h\\nPreheat an oven to 350 degrees ...</td>\n",
       "    </tr>\n",
       "    <tr>\n",
       "      <th>3</th>\n",
       "      <td>Chicken Pesto Paninis</td>\n",
       "      <td>{'directions': u'Prep\\n15 m\\nCook\\n5 m\\nReady ...</td>\n",
       "      <td>{'directions': u'Prep 15 m Cook 5 m Ready In 2...</td>\n",
       "      <td>Ready In\\n20 m\\nPreheat a panini grill.\\nSlice...</td>\n",
       "    </tr>\n",
       "    <tr>\n",
       "      <th>4</th>\n",
       "      <td>Potato Bacon Pizza</td>\n",
       "      <td>{'directions': u'Prep\\n20 m\\nCook\\n45 m\\nReady...</td>\n",
       "      <td>{'directions': u'Prep 20 m Cook 45 m Ready In ...</td>\n",
       "      <td>Combine warm water, honey, and yeast in a larg...</td>\n",
       "    </tr>\n",
       "  </tbody>\n",
       "</table>\n",
       "</div>"
      ],
      "text/plain": [
       "                         recipe_name  \\\n",
       "0                     Homemade Bacon   \n",
       "1  Pork Loin, Apples, and Sauerkraut   \n",
       "2   Foolproof Rosemary Chicken Wings   \n",
       "3              Chicken Pesto Paninis   \n",
       "4                 Potato Bacon Pizza   \n",
       "\n",
       "                                  cooking_directions  \\\n",
       "0  {'directions': u'Prep\\n5 m\\nCook\\n2 h 45 m\\nRe...   \n",
       "1  {'directions': u'Prep\\n15 m\\nCook\\n2 h 30 m\\nR...   \n",
       "2  {'directions': u\"Prep\\n20 m\\nCook\\n40 m\\nReady...   \n",
       "3  {'directions': u'Prep\\n15 m\\nCook\\n5 m\\nReady ...   \n",
       "4  {'directions': u'Prep\\n20 m\\nCook\\n45 m\\nReady...   \n",
       "\n",
       "                                formatted_directions  \\\n",
       "0  {'directions': u'Prep 5 m Cook 2 h 45 m Ready ...   \n",
       "1  {'directions': u'Prep 15 m Cook 2 h 30 m Ready...   \n",
       "2  {'directions': u\"Prep 20 m Cook 40 m Ready In ...   \n",
       "3  {'directions': u'Prep 15 m Cook 5 m Ready In 2...   \n",
       "4  {'directions': u'Prep 20 m Cook 45 m Ready In ...   \n",
       "\n",
       "                                extracted_directions  \n",
       "0  Ready In\\n11 h 50 m\\nPreheat oven to 200 degre...  \n",
       "1  Ready In\\n2 h 45 m\\nPreheat oven to 325 degree...  \n",
       "2  Ready In\\n1 h\\nPreheat an oven to 350 degrees ...  \n",
       "3  Ready In\\n20 m\\nPreheat a panini grill.\\nSlice...  \n",
       "4  Combine warm water, honey, and yeast in a larg...  "
      ]
     },
     "execution_count": 64,
     "metadata": {},
     "output_type": "execute_result"
    }
   ],
   "source": [
    "data.head()"
   ]
  },
  {
   "cell_type": "code",
   "execution_count": 65,
   "metadata": {},
   "outputs": [],
   "source": [
    "data=data[['recipe_name','cooking_directions','formatted_directions']]"
   ]
  },
  {
   "cell_type": "code",
   "execution_count": 66,
   "metadata": {},
   "outputs": [
    {
     "data": {
      "text/plain": [
       "0        {'directions': u'Prep 5 m Cook 2 h 45 m Ready ...\n",
       "1        {'directions': u'Prep 15 m Cook 2 h 30 m Ready...\n",
       "2        {'directions': u\"Prep 20 m Cook 40 m Ready In ...\n",
       "3        {'directions': u'Prep 15 m Cook 5 m Ready In 2...\n",
       "4        {'directions': u'Prep 20 m Cook 45 m Ready In ...\n",
       "                               ...                        \n",
       "49693    {'directions': u'Prep 5 m Ready In 5 m Combine...\n",
       "49694    {'directions': u'Prep 15 m Ready In 15 m Sprin...\n",
       "49695    {'directions': u'Prep 1 m Ready In 1 m In a bl...\n",
       "49696    {'directions': u'Prep 20 m Cook 10 m Ready In ...\n",
       "49697    {'directions': u'Prep 15 m Cook 40 m Ready In ...\n",
       "Name: formatted_directions, Length: 49698, dtype: object"
      ]
     },
     "execution_count": 66,
     "metadata": {},
     "output_type": "execute_result"
    }
   ],
   "source": [
    "data['formatted_directions']"
   ]
  },
  {
   "cell_type": "code",
   "execution_count": 67,
   "metadata": {},
   "outputs": [
    {
     "name": "stdout",
     "output_type": "stream",
     "text": [
      "                             recipe_name  \\\n",
      "0                         Homemade Bacon   \n",
      "1      Pork Loin, Apples, and Sauerkraut   \n",
      "2       Foolproof Rosemary Chicken Wings   \n",
      "3                  Chicken Pesto Paninis   \n",
      "4                     Potato Bacon Pizza   \n",
      "...                                  ...   \n",
      "49693             Grateful Dead Cocktail   \n",
      "49694        Cheese Filling For Pastries   \n",
      "49695                     Peach Smoothie   \n",
      "49696                Double Dare Peaches   \n",
      "49697         All-Purpose Marinara Sauce   \n",
      "\n",
      "                                    formatted_directions  \n",
      "0      {'directions': u'Can be prepare in 5 m , can b...  \n",
      "1      {'directions': u'Can be prepare in 15 m , can ...  \n",
      "2      {'directions': u\"Can be prepare in 20 m , can ...  \n",
      "3      {'directions': u'Can be prepare in 15 m , can ...  \n",
      "4      {'directions': u'Can be prepare in 20 m , can ...  \n",
      "...                                                  ...  \n",
      "49693  {'directions': u'Can be prepare in 5 m and wil...  \n",
      "49694  {'directions': u'Can be prepare in 15 m and wi...  \n",
      "49695  {'directions': u'Can be prepare in 1 m and wil...  \n",
      "49696  {'directions': u'Can be prepare in 20 m , can ...  \n",
      "49697  {'directions': u'Can be prepare in 15 m , can ...  \n",
      "\n",
      "[49698 rows x 2 columns]\n"
     ]
    }
   ],
   "source": [
    "import pandas as pd\n",
    "\n",
    "def replace_keywords(directions):\n",
    "    # Replace specific keywords with desired phrases\n",
    "    directions = directions.replace('Prep', 'Can be prepare in')\n",
    "    directions = directions.replace('Cook', ', can be cooked in')\n",
    "    directions = directions.replace('Ready In', 'and will be ready in')\n",
    "    return directions\n",
    "\n",
    "def process_formatted_directions(df):\n",
    "    # Apply the replacement function to the 'formatted_directions' column\n",
    "    df['formatted_directions'] = df['formatted_directions'].apply(replace_keywords)\n",
    "    return df\n",
    "\n",
    "\n",
    "# Process the dataset\n",
    "data = process_formatted_directions(data)\n",
    "\n",
    "# Print the results\n",
    "print(data[['recipe_name', 'formatted_directions']])\n"
   ]
  },
  {
   "cell_type": "code",
   "execution_count": 69,
   "metadata": {},
   "outputs": [
    {
     "data": {
      "text/html": [
       "<div>\n",
       "<style scoped>\n",
       "    .dataframe tbody tr th:only-of-type {\n",
       "        vertical-align: middle;\n",
       "    }\n",
       "\n",
       "    .dataframe tbody tr th {\n",
       "        vertical-align: top;\n",
       "    }\n",
       "\n",
       "    .dataframe thead th {\n",
       "        text-align: right;\n",
       "    }\n",
       "</style>\n",
       "<table border=\"1\" class=\"dataframe\">\n",
       "  <thead>\n",
       "    <tr style=\"text-align: right;\">\n",
       "      <th></th>\n",
       "      <th>recipe_name</th>\n",
       "      <th>cooking_directions</th>\n",
       "      <th>formatted_directions</th>\n",
       "    </tr>\n",
       "  </thead>\n",
       "  <tbody>\n",
       "    <tr>\n",
       "      <th>0</th>\n",
       "      <td>Homemade Bacon</td>\n",
       "      <td>{'directions': u'Prep\\n5 m\\nCook\\n2 h 45 m\\nRe...</td>\n",
       "      <td>{'directions': u'Can be prepare in 5 m , can b...</td>\n",
       "    </tr>\n",
       "    <tr>\n",
       "      <th>1</th>\n",
       "      <td>Pork Loin, Apples, and Sauerkraut</td>\n",
       "      <td>{'directions': u'Prep\\n15 m\\nCook\\n2 h 30 m\\nR...</td>\n",
       "      <td>{'directions': u'Can be prepare in 15 m , can ...</td>\n",
       "    </tr>\n",
       "    <tr>\n",
       "      <th>2</th>\n",
       "      <td>Foolproof Rosemary Chicken Wings</td>\n",
       "      <td>{'directions': u\"Prep\\n20 m\\nCook\\n40 m\\nReady...</td>\n",
       "      <td>{'directions': u\"Can be prepare in 20 m , can ...</td>\n",
       "    </tr>\n",
       "    <tr>\n",
       "      <th>3</th>\n",
       "      <td>Chicken Pesto Paninis</td>\n",
       "      <td>{'directions': u'Prep\\n15 m\\nCook\\n5 m\\nReady ...</td>\n",
       "      <td>{'directions': u'Can be prepare in 15 m , can ...</td>\n",
       "    </tr>\n",
       "    <tr>\n",
       "      <th>4</th>\n",
       "      <td>Potato Bacon Pizza</td>\n",
       "      <td>{'directions': u'Prep\\n20 m\\nCook\\n45 m\\nReady...</td>\n",
       "      <td>{'directions': u'Can be prepare in 20 m , can ...</td>\n",
       "    </tr>\n",
       "  </tbody>\n",
       "</table>\n",
       "</div>"
      ],
      "text/plain": [
       "                         recipe_name  \\\n",
       "0                     Homemade Bacon   \n",
       "1  Pork Loin, Apples, and Sauerkraut   \n",
       "2   Foolproof Rosemary Chicken Wings   \n",
       "3              Chicken Pesto Paninis   \n",
       "4                 Potato Bacon Pizza   \n",
       "\n",
       "                                  cooking_directions  \\\n",
       "0  {'directions': u'Prep\\n5 m\\nCook\\n2 h 45 m\\nRe...   \n",
       "1  {'directions': u'Prep\\n15 m\\nCook\\n2 h 30 m\\nR...   \n",
       "2  {'directions': u\"Prep\\n20 m\\nCook\\n40 m\\nReady...   \n",
       "3  {'directions': u'Prep\\n15 m\\nCook\\n5 m\\nReady ...   \n",
       "4  {'directions': u'Prep\\n20 m\\nCook\\n45 m\\nReady...   \n",
       "\n",
       "                                formatted_directions  \n",
       "0  {'directions': u'Can be prepare in 5 m , can b...  \n",
       "1  {'directions': u'Can be prepare in 15 m , can ...  \n",
       "2  {'directions': u\"Can be prepare in 20 m , can ...  \n",
       "3  {'directions': u'Can be prepare in 15 m , can ...  \n",
       "4  {'directions': u'Can be prepare in 20 m , can ...  "
      ]
     },
     "execution_count": 69,
     "metadata": {},
     "output_type": "execute_result"
    }
   ],
   "source": [
    "data.head()"
   ]
  },
  {
   "cell_type": "code",
   "execution_count": 70,
   "metadata": {},
   "outputs": [
    {
     "name": "stdout",
     "output_type": "stream",
     "text": [
      "                             recipe_name  \\\n",
      "0                         Homemade Bacon   \n",
      "1      Pork Loin, Apples, and Sauerkraut   \n",
      "2       Foolproof Rosemary Chicken Wings   \n",
      "3                  Chicken Pesto Paninis   \n",
      "4                     Potato Bacon Pizza   \n",
      "...                                  ...   \n",
      "49693             Grateful Dead Cocktail   \n",
      "49694        Cheese Filling For Pastries   \n",
      "49695                     Peach Smoothie   \n",
      "49696                Double Dare Peaches   \n",
      "49697         All-Purpose Marinara Sauce   \n",
      "\n",
      "                                    formatted_directions  \n",
      "0      Can be prepare in 5 m , can be cooked in 2 h 4...  \n",
      "1      Can be prepare in 15 m , can be cooked in 2 h ...  \n",
      "2      {'directions': u\"Can be prepare in 20 m , can ...  \n",
      "3      Can be prepare in 15 m , can be cooked in 5 m ...  \n",
      "4      Can be prepare in 20 m , can be cooked in 45 m...  \n",
      "...                                                  ...  \n",
      "49693  Can be prepare in 5 m and will be ready in 5 m...  \n",
      "49694  Can be prepare in 15 m and will be ready in 15...  \n",
      "49695  Can be prepare in 1 m and will be ready in 1 m...  \n",
      "49696  Can be prepare in 20 m , can be cooked in 10 m...  \n",
      "49697  Can be prepare in 15 m , can be cooked in 40 m...  \n",
      "\n",
      "[49698 rows x 2 columns]\n"
     ]
    }
   ],
   "source": [
    "import pandas as pd\n",
    "import re\n",
    "\n",
    "def clean_directions(directions):\n",
    "    # Remove the leading portion including the curly braces and 'directions: u'\n",
    "    cleaned = re.sub(r\"{'directions': u'\", '', directions)\n",
    "    # Remove trailing portion if exists and any trailing newlines\n",
    "    cleaned = re.sub(r\"'}$\", '', cleaned).strip()\n",
    "    return cleaned\n",
    "\n",
    "def process_formatted_directions(df):\n",
    "    # Apply the cleaning function to the 'formatted_directions' column\n",
    "    df['formatted_directions'] = df['formatted_directions'].apply(clean_directions)\n",
    "    return df\n",
    "\n",
    "\n",
    "# Process the dataset\n",
    "data = process_formatted_directions(data)\n",
    "\n",
    "# Print the results\n",
    "print(data[['recipe_name', 'formatted_directions']])\n"
   ]
  },
  {
   "cell_type": "code",
   "execution_count": 72,
   "metadata": {},
   "outputs": [
    {
     "data": {
      "text/plain": [
       "'Can be prepare in 10 m , can be cooked in 8 h 15 m and will be ready in 8 h 25 m Place the chicken breasts into the bottom of a slow cooker, and pour tomatoes, green salsa, black beans, pinto beans, and corn over the chicken. Sprinkle taco seasoning, cilantro, ground red chile, and cumin over the mixture, and stir to combine. Cover the cooker, set on Low, and cook until chicken is very tender and the mixture has thickened, 8 to 10 hours. For soup, leave all liquid in the cooker; for a thicker stew, remove some liquid if desired. Mix 1 or 2 tablespoons of liquid with cream cheese in a bowl, stir until smooth, and mix the cream cheese into the cooker to make a creamy sauce. Continue to cook for 15 minutes, then serve.'"
      ]
     },
     "execution_count": 72,
     "metadata": {},
     "output_type": "execute_result"
    }
   ],
   "source": [
    "data['formatted_directions'][5]"
   ]
  },
  {
   "cell_type": "code",
   "execution_count": 73,
   "metadata": {},
   "outputs": [],
   "source": [
    "data=data[['recipe_name','formatted_directions']]"
   ]
  },
  {
   "cell_type": "code",
   "execution_count": 76,
   "metadata": {},
   "outputs": [],
   "source": [
    "data=data[:20000]"
   ]
  },
  {
   "cell_type": "code",
   "execution_count": 77,
   "metadata": {},
   "outputs": [],
   "source": [
    "data.to_csv('data_for_llm.csv')"
   ]
  },
  {
   "cell_type": "code",
   "execution_count": null,
   "metadata": {},
   "outputs": [],
   "source": []
  },
  {
   "cell_type": "code",
   "execution_count": null,
   "metadata": {},
   "outputs": [],
   "source": []
  }
 ],
 "metadata": {
  "kernelspec": {
   "display_name": "Python 3",
   "language": "python",
   "name": "python3"
  },
  "language_info": {
   "codemirror_mode": {
    "name": "ipython",
    "version": 3
   },
   "file_extension": ".py",
   "mimetype": "text/x-python",
   "name": "python",
   "nbconvert_exporter": "python",
   "pygments_lexer": "ipython3",
   "version": "3.11.5"
  }
 },
 "nbformat": 4,
 "nbformat_minor": 2
}
